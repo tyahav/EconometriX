{
 "cells": [
  {
   "cell_type": "code",
   "execution_count": 25,
   "metadata": {},
   "outputs": [],
   "source": [
    "import torch\n",
    "import torch.nn as nn\n",
    "import torch.nn.functional as F\n",
    "import numpy as np\n",
    "\n",
    "from torch.utils.data import Dataset, DataLoader, TensorDataset\n"
   ]
  },
  {
   "cell_type": "code",
   "execution_count": 18,
   "metadata": {},
   "outputs": [],
   "source": [
    "class Conv1DNet(nn.Module):\n",
    "\n",
    "    def __init__(self, n_chan=64, kernel_size=3, in_ch=1, out_ch=1, bias=True):\n",
    "        super(Conv1DNet, self).__init__()\n",
    "        \n",
    "        # Expected input size: [Batch_size, in_ch,  Time Steps (180)]\n",
    "        first_layer = [nn.Conv1d(in_channels=in_ch, out_channels=n_chan, kernel_size=kernel_size, bias=bias, padding = kernel_size//2),\n",
    "                       nn.MaxPool1d(3),\n",
    "                       nn.ReLU(True)]\n",
    "        self.first_layer = nn.Sequential(*first_layer)\n",
    "        \n",
    "        feature_block = []\n",
    "        for _ in range(1):\n",
    "            feature_block += [nn.Conv1d(in_channels=n_chan, out_channels=n_chan, kernel_size=kernel_size, bias=bias, padding = kernel_size//2),\n",
    "                              nn.MaxPool1d(3),\n",
    "                              nn.ReLU(True)]\n",
    "        self.feature_block = nn.Sequential(*feature_block)\n",
    "        \n",
    "        # final layer - reduced the input to [Batch_size, n_chan, 20]\n",
    "        final_layer = [nn.Linear(20*n_chan, 2)]\n",
    "        self.final_layer = nn.Sequential(*final_layer)\n",
    "\n",
    "    def forward(self, input_tensor):\n",
    "        out = self.first_layer(input_tensor)\n",
    "        out = self.feature_block(out)\n",
    "        out = out.reshape(out.shape[0], -1)\n",
    "        out = self.final_layer(out)\n",
    "        return out\n"
   ]
  },
  {
   "cell_type": "code",
   "execution_count": 62,
   "metadata": {},
   "outputs": [],
   "source": [
    "# TBD - Input/target from Tom's preprocessing, divide to train/val/test\n",
    "inputs = torch.randn([20,1,180]) \n",
    "targets = torch.randint(0,2,[20])\n",
    "val_inputs = torch.randn([20,1,180])\n",
    "val_targets = torch.randint(0,2,[20])\n",
    "trainset = TensorDataset(inputs, targets)\n",
    "valset = TensorDataset(val_inputs, val_targets)\n",
    "train_loader = DataLoader(trainset, batch_size=batch_size, shuffle=True)\n",
    "val_loader = DataLoader(valset, batch_size=batch_size, shuffle=True)\n"
   ]
  },
  {
   "cell_type": "code",
   "execution_count": 82,
   "metadata": {},
   "outputs": [
    {
     "name": "stdout",
     "output_type": "stream",
     "text": [
      "epoch  1, accuracy 0.55\n",
      "epoch  2, accuracy 0.55\n",
      "epoch  3, accuracy 0.55\n",
      "epoch  4, accuracy 0.55\n",
      "epoch  5, accuracy 0.55\n",
      "epoch  6, accuracy 0.55\n",
      "epoch  7, accuracy 0.40\n",
      "epoch  8, accuracy 0.55\n",
      "epoch  9, accuracy 0.45\n",
      "epoch 10, accuracy 0.50\n"
     ]
    }
   ],
   "source": [
    "net = Conv1DNet()\n",
    "loss_fn = nn.CrossEntropyLoss()\n",
    "opt = torch.optim.Adam(net.parameters(), lr=5e-4)\n",
    "batch_size = 16\n",
    "loss_history = []\n",
    "accuracy_history = []\n",
    "for epoch in range(10):\n",
    "    for batch_ndx, sample in enumerate(train_loader):\n",
    "        opt.zero_grad()\n",
    "        out = net(sample[0])\n",
    "        loss = loss_fn(out, sample[1])\n",
    "        loss.backward()\n",
    "        opt.step()\n",
    "        loss_history.append(loss.detach().item())\n",
    "    with torch.no_grad():\n",
    "        total = 0\n",
    "        correct = 0\n",
    "        for batch_ndx, sample in enumerate(val_loader):\n",
    "            out = net(sample[0])\n",
    "            _, predicted = torch.max(out.data, 1)\n",
    "            total += sample[1].size(0)\n",
    "            correct += (predicted == sample[1]).sum().item()\n",
    "        print('epoch %2d, accuracy %.2f' % (epoch+1, correct/total))\n",
    "        accuracy_history.append(correct/total)"
   ]
  }
 ],
 "metadata": {
  "kernelspec": {
   "display_name": "Python 3",
   "language": "python",
   "name": "python3"
  },
  "language_info": {
   "codemirror_mode": {
    "name": "ipython",
    "version": 3
   },
   "file_extension": ".py",
   "mimetype": "text/x-python",
   "name": "python",
   "nbconvert_exporter": "python",
   "pygments_lexer": "ipython3",
   "version": "3.8.3"
  }
 },
 "nbformat": 4,
 "nbformat_minor": 4
}
